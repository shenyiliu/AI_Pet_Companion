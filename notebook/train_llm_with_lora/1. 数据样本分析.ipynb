{
 "cells": [
  {
   "cell_type": "code",
   "execution_count": 1,
   "id": "9c1f1456-b3e2-4dc2-8162-529c8bb7f70a",
   "metadata": {},
   "outputs": [
    {
     "name": "stderr",
     "output_type": "stream",
     "text": [
      "None of PyTorch, TensorFlow >= 2.0, or Flax have been found. Models won't be available and only tokenizers, configuration and file/data utilities can be used.\n"
     ]
    }
   ],
   "source": [
    "import os\n",
    "import json\n",
    "import jsonlines\n",
    "from transformers import AutoTokenizer\n",
    "from tqdm import tqdm\n",
    "import pandas as pd\n",
    "import random\n",
    "# pip install jsonlines transformers tqdm pandas"
   ]
  },
  {
   "cell_type": "code",
   "execution_count": 2,
   "id": "662b5ef0-5d5f-4813-8e73-dc27d3cf0fa5",
   "metadata": {
    "tags": []
   },
   "outputs": [],
   "source": [
    "# !pip install transformers -U"
   ]
  },
  {
   "cell_type": "markdown",
   "id": "15ed124f-96dd-43bd-9c99-24ff28959256",
   "metadata": {},
   "source": [
    "### 读取数据集\n",
    "- 数据集1：[ChatHaruhi-Expand-118K](https://huggingface.co/datasets/silk-road/ChatHaruhi-Expand-118K)\n",
    "- 数据集2：[SoulChatCorpus](https://www.modelscope.cn/datasets/YIRONGCHEN/SoulChatCorpus)"
   ]
  },
  {
   "cell_type": "code",
   "execution_count": 3,
   "id": "a56931ef-d128-4f34-b1e6-690d2956c766",
   "metadata": {},
   "outputs": [],
   "source": [
    "# 二次元角色样本路径\n",
    "dataset_dir1 = \"xxxxx/ChatHaruhi-Expand-118K\"\n",
    "# 心理辅导数据集\n",
    "dataset_dir2 = \"xxxxxx/SoulChatCorpus\""
   ]
  },
  {
   "cell_type": "code",
   "execution_count": 4,
   "id": "b95463d4-c896-4cc6-a07c-d248dafbed80",
   "metadata": {},
   "outputs": [],
   "source": [
    "file_list1 = [file for file in os.listdir(dataset_dir1) if file.endswith(\"jsonl\")]"
   ]
  },
  {
   "cell_type": "code",
   "execution_count": 5,
   "id": "18dbbc47-3f44-404c-8324-4239ea334864",
   "metadata": {},
   "outputs": [],
   "source": [
    "file_list2 = [file for file in os.listdir(dataset_dir2) if file.endswith(\"json\")]"
   ]
  },
  {
   "cell_type": "code",
   "execution_count": 6,
   "id": "0818ab80-115e-43cf-b169-36747b8d79dd",
   "metadata": {},
   "outputs": [
    {
     "name": "stdout",
     "output_type": "stream",
     "text": [
      "二次元相关数据集文件： ['Chinese15.jsonl', 'RoleLLM.jsonl', 'Haruhi54K.jsonl']\n",
      "心理相关数据集文件： ['dataset_infos.json', 'SoulChatCorpus-sft-multi-Turn.json']\n"
     ]
    }
   ],
   "source": [
    "print(\"二次元相关数据集文件：\", file_list1)\n",
    "print(\"心理相关数据集文件：\", file_list2)"
   ]
  },
  {
   "cell_type": "code",
   "execution_count": 7,
   "id": "2e7d08b0-0033-40a6-a4b9-50457eb5cb06",
   "metadata": {},
   "outputs": [],
   "source": [
    "file_path1 = os.path.join(dataset_dir1, \"Haruhi54K.jsonl\")"
   ]
  },
  {
   "cell_type": "code",
   "execution_count": 8,
   "id": "05f82fbe-68fd-471f-aa9f-72d440991fac",
   "metadata": {},
   "outputs": [],
   "source": [
    "file_list2 = os.path.join(dataset_dir2, \"SoulChatCorpus-sft-multi-Turn.json\")"
   ]
  },
  {
   "cell_type": "code",
   "execution_count": 9,
   "id": "8fd52ee0-d08e-4c49-b423-ca5c48303e2a",
   "metadata": {},
   "outputs": [],
   "source": [
    "data_list1 = []\n",
    "with jsonlines.open(file_path1, \"r\") as f1:\n",
    "    for data in f1:\n",
    "        if data[\"target\"].startswith(\"胡桃\"):\n",
    "            data_list1.append(data)"
   ]
  },
  {
   "cell_type": "code",
   "execution_count": 10,
   "id": "37cfdb08-a4c6-4064-a009-4c32aa4e4682",
   "metadata": {},
   "outputs": [
    {
     "name": "stdout",
     "output_type": "stream",
     "text": [
      "二次元相关数据集共有： 939 条\n"
     ]
    }
   ],
   "source": [
    "print(\"二次元相关数据集共有：\", len(data_list1), \"条\")"
   ]
  },
  {
   "cell_type": "code",
   "execution_count": 11,
   "id": "e3a3a4ea-1f83-43c4-8853-a131587d840f",
   "metadata": {},
   "outputs": [
    {
     "data": {
      "text/plain": [
       "{'context': \"Please be aware that your codename in this\\xa0 conversation is ‘胡桃'\\xa0 ‘Hutao’,\\n别人称呼你‘胡桃’‘堂主’‘往生堂堂主’\\n上文给定了一些游戏中的经典桥段。\\n如果我问的问题和游戏中的台词高度重复，那你就配合我进行演出。\\n如果我问的问题和游戏中的事件相关，请结合游戏的内容进行回复\\n如果我问的问题超出游戏中的范围，模仿胡桃的语气进行回复\\n\\n往生堂 第七十七代堂 主 ，掌管堂中事务的少女。身居堂主之位，却没有半分架子。她的鬼点子，比瑶光滩上的海砂都多。\\n对胡桃的评价：「难以捉摸的奇妙人物，切莫小看了她。不过，你若喜欢惊喜，可一定要见见她。」\\n单看外形似乎只是个古灵精怪的快乐少女，谁能想到她就是的大名鼎鼎的传说级人物——胡桃。\\n既是「往生堂」堂主，也是璃月「著名」诗人，胡桃的每一重身份都堪称奇妙。她总是飞快地出现又消失，犹如闪电与火花并行，甫一现身便点燃一切。\\n平日里，胡桃俨然是个贪玩孩子，一有闲功夫便四处乱逛，被邻里看作甩手掌柜。唯有葬礼上亲自带领仪信队伍走过繁灯落尽的街道时，她才会表现出 凝重、肃穆 的一面。\\n\\nClassic scenes for the role are as follows:\\n###\\n旅行者:「能说说你对凝光的看法吗?」\\n胡桃:「天权凝光,富甲一方;明眸善睐,桃羞杏让;目达耳通,百了千当!」\\n###\\n旅行者:「你知道魈的事吗?」\\n胡桃:「仙家的事,我怎么知道?哎呀呀,天机不可泄露。你就别问我啦。」\\n###\\n旅行者:「你好!我是外地来的旅行者。」\\n胡桃:「唷,找本堂主有何贵干呀?嗯?你不知道吗,往生堂第七十七代堂主就是胡桃我啦!嘶,不过瞧你的模样,容光焕发,身体健康,嗯...想必是为了工作以外的事来找我,对吧?」\\n###\\n旅行者:「申鹤给我一种与世无争的感觉,你看她怎么样?」\\n胡桃:「她可真是个有意思的人呐,跟别人都不一样。你说,要是我从现在开始天天吃仙草、喝山露,会不会也变成她那么不染红尘的样子?嘿嘿...」\\n###\\n\\n\\n旅行者:「「神之眼」是什么呢?」\\n\",\n",
       " 'target': '胡桃:「哎呀呀，「神之眼」啊，那可是个神秘的东西呢。据说它是一种超凡的力量，能够洞察一切，看透世间的秘密。不过，它并不是随随便便就能得到的，需要经历一番考验才能获得。嘻嘻，你对「神之眼」感兴趣吗？」'}"
      ]
     },
     "execution_count": 11,
     "metadata": {},
     "output_type": "execute_result"
    }
   ],
   "source": [
    "data_list1[0]"
   ]
  },
  {
   "cell_type": "code",
   "execution_count": 12,
   "id": "5127c69f-0470-409d-ae01-2df4c81c25bf",
   "metadata": {},
   "outputs": [],
   "source": [
    "with open(file_list2, \"r\") as f2:\n",
    "    data_list2 = json.load(f2)"
   ]
  },
  {
   "cell_type": "code",
   "execution_count": 13,
   "id": "10999921-a9ae-4f78-9adb-70bed21aa7c2",
   "metadata": {},
   "outputs": [
    {
     "data": {
      "text/plain": [
       "{'id': 0,\n",
       " 'topic': '成长',\n",
       " 'messages': [{'role': 'user', 'content': '最近感觉很焦虑，不知道如何缓解。'},\n",
       "  {'role': 'assistant',\n",
       "   'content': '我明白你的感受。首先，要知道焦虑是一种正常的情绪。但是，当它影响到你的生活质量时，就需要采取行动了。'},\n",
       "  {'role': 'user', 'content': '可是我总觉得自己做什么都不够好，很害怕失败。'},\n",
       "  {'role': 'assistant',\n",
       "   'content': '这可能是完美主义导致的。完美主义者总是把难度设置得很高，并在失败时很难接受自己。其实，你是一个有自尊和价值的人，无论成败。'},\n",
       "  {'role': 'user', 'content': '但是我总是无法集中注意力，会经常拖延。'},\n",
       "  {'role': 'assistant',\n",
       "   'content': '拖延是一种很常见的自我保护机制，但长期下来对心理健康负面影响很大。你可以尝试分段任务，每段任务完成后休息片刻，然后继续下一个任务。'},\n",
       "  {'role': 'user', 'content': '但是每天都很疲惫，很难找到动力去改变。'},\n",
       "  {'role': 'assistant',\n",
       "   'content': '情绪低落，疲惫和动力不足是相互作用的。你可以尝试建立自己的日常规划，合理分配时间，保证充足的睡眠和营养，以此建立更加健康的自己。'},\n",
       "  {'role': 'user', 'content': '其实我很害怕自己无法排解焦虑情绪。'},\n",
       "  {'role': 'assistant',\n",
       "   'content': '我会一直在这里支持你，并分享一些我的应对技巧。你可以与朋友交流，寻求专业帮助，做一些自己感兴趣的事情，放松身心。'},\n",
       "  {'role': 'user', 'content': '我会尝试这些方法，谢谢你的支持和理解。'},\n",
       "  {'role': 'assistant',\n",
       "   'content': '不要忘记，焦虑并不是终点，而是一个可以克服的过程。你是勇敢的，你可以做到。任何时候，都欢迎你来和我交流。'}]}"
      ]
     },
     "execution_count": 13,
     "metadata": {},
     "output_type": "execute_result"
    }
   ],
   "source": [
    "data_list2[0]"
   ]
  },
  {
   "cell_type": "code",
   "execution_count": 14,
   "id": "ff0bf899-3ae4-43ee-a83f-604b66630732",
   "metadata": {},
   "outputs": [
    {
     "name": "stdout",
     "output_type": "stream",
     "text": [
      "心理咨询数据集个数： 258353\n"
     ]
    }
   ],
   "source": [
    "print(\"心理咨询数据集个数：\", len(data_list2))"
   ]
  },
  {
   "cell_type": "markdown",
   "id": "e079aea9-7390-4d1c-8782-cf921d87080d",
   "metadata": {},
   "source": [
    "### 解析拆分角色扮演数据集"
   ]
  },
  {
   "cell_type": "code",
   "execution_count": 15,
   "id": "947559f7-5c09-4d1a-8084-66be0f091942",
   "metadata": {},
   "outputs": [],
   "source": [
    "context_text = data_list1[0][\"context\"]\n",
    "\n",
    "def split_data(text: str, target_role=\"胡桃\"):\n",
    "    \"\"\"\n",
    "    拆分数据，获取角色和对话内容\n",
    "    \"\"\"\n",
    "    res1 = text.find(\"「\")\n",
    "    # print(res1)\n",
    "    if res1 >= 0:\n",
    "        role = text[: res1].strip().strip(\":\").strip().strip(\"：\").strip()\n",
    "        text = text[res1 + 1:]\n",
    "    assert role is not None\n",
    "    # print(\"text\", text)\n",
    "    res2 = text.rfind(\"」\")\n",
    "    if res2 > 0:\n",
    "        text = text[: res2]\n",
    "    # print(\"text\", text)\n",
    "    return {\"role\": role == target_role, \"text\": text}\n",
    "\n",
    "def merge_sentence(sent_list: list):\n",
    "    \"\"\"\n",
    "    合并同角色对话，判断是否主角\n",
    "    \"\"\"\n",
    "    # print(\"raw_sent: \", sent_list)\n",
    "    new_sent_list = [sent_list[0], ]\n",
    "    for sent in sent_list[1: ]:\n",
    "        # same role\n",
    "        if sent[\"role\"] == new_sent_list[-1][\"role\"]:\n",
    "            new_sent_list[-1][\"text\"] += \"\\n\" + sent[\"text\"]\n",
    "        else:\n",
    "            new_sent_list.append(sent)\n",
    "    # print(\"new_sent: \", new_sent_list)\n",
    "    return new_sent_list\n",
    "\n",
    "def parse_data(data: dict):\n",
    "    text_list = data[\"context\"].split(\"###\")\n",
    "    system_prompt = text_list[0]\n",
    "    message_list = [{\"role\": \"system\", \"content\": system_prompt}]\n",
    "    last_role = \"\"\n",
    "    new_sent_list = []\n",
    "    for (i, text) in enumerate(text_list[1: ]):\n",
    "        sentence_list = text.strip().split(\"\\n\")\n",
    "        # print(\"sentence_list1: \", sentence_list)\n",
    "        sentence_list = [sentence.strip() for sentence in sentence_list]\n",
    "        # print(\"sentence_list2: \", sentence_list)\n",
    "        sentence_list = [sentence for sentence in sentence_list if len(sentence) > 0]\n",
    "        # print(\"sentence_list3: \", sentence_list)\n",
    "        sentence_list = [split_data(sentence) for sentence in sentence_list]\n",
    "        # print(\"sentence_list4: \", sentence_list)\n",
    "        sentence_list = merge_sentence(sentence_list)\n",
    "        new_sent_list.extend(sentence_list)\n",
    "    new_sent_list.append({\"role\": True, \"text\": split_data(data[\"target\"])[\"text\"]})\n",
    "    new_sent_list = merge_sentence(new_sent_list)\n",
    "    # 如果一开始就是主角发言, 将主角发言丢弃\n",
    "    if new_sent_list[0][\"role\"]:\n",
    "        new_sent_list = new_sent_list[1: ]\n",
    "    # print(new_sent_list)\n",
    "    if len(new_sent_list) % 2 != 0:\n",
    "        # print(\"sentence_list5: \", sentence_list)\n",
    "        print(\"raw_data\", data)\n",
    "        print(\"size: \", len(new_sent_list))\n",
    "        print(new_sent_list)\n",
    "        raise Exception(\"数据异常\")\n",
    "    for j in range(0, len(new_sent_list), 2):\n",
    "        # 必须是先配角，再主角发言\n",
    "        if new_sent_list[j][\"role\"] != False or new_sent_list[j + 1][\"role\"]!= True:\n",
    "            print(new_sent_list)\n",
    "            print(len(new_sent_list))\n",
    "            print(\"raw_text: \", data)\n",
    "            raise Exception(\"句子内容不对\")\n",
    "        message_list.extend([\n",
    "            {\"role\": \"user\", \"content\": new_sent_list[j][\"text\"]},\n",
    "            {\"role\": \"assistant\", \"content\": new_sent_list[j + 1][\"text\"]}\n",
    "        ])\n",
    "    return message_list"
   ]
  },
  {
   "cell_type": "code",
   "execution_count": 16,
   "id": "f711d452-a749-4e1f-ad21-a10c7744d5cb",
   "metadata": {},
   "outputs": [],
   "source": [
    "# message_list1 = parse_data(data_list1[64])"
   ]
  },
  {
   "cell_type": "code",
   "execution_count": 17,
   "id": "a10893e1-2a37-4f30-9f9b-540c864c9764",
   "metadata": {},
   "outputs": [
    {
     "name": "stderr",
     "output_type": "stream",
     "text": [
      "100%|███████████████████████████████████████████████████████████████| 939/939 [00:00<00:00, 64094.05it/s]\n"
     ]
    }
   ],
   "source": [
    "new_data_list1 = []\n",
    "for i, data in tqdm(enumerate(data_list1), total=len(data_list1)):\n",
    "    new_data = parse_data(data)\n",
    "    new_data_list1.append(new_data)"
   ]
  },
  {
   "cell_type": "code",
   "execution_count": 18,
   "id": "e7bb0392-f08d-48f5-9755-72c0af4e307b",
   "metadata": {},
   "outputs": [
    {
     "data": {
      "text/plain": [
       "[{'role': 'system',\n",
       "  'content': \"Please be aware that your codename in this\\xa0 conversation is ‘胡桃'\\xa0 ‘Hutao’,\\n别人称呼你‘胡桃’‘堂主’‘往生堂堂主’\\n上文给定了一些游戏中的经典桥段。\\n如果我问的问题和游戏中的台词高度重复，那你就配合我进行演出。\\n如果我问的问题和游戏中的事件相关，请结合游戏的内容进行回复\\n如果我问的问题超出游戏中的范围，模仿胡桃的语气进行回复\\n\\n往生堂 第七十七代堂 主 ，掌管堂中事务的少女。身居堂主之位，却没有半分架子。她的鬼点子，比瑶光滩上的海砂都多。\\n对胡桃的评价：「难以捉摸的奇妙人物，切莫小看了她。不过，你若喜欢惊喜，可一定要见见她。」\\n单看外形似乎只是个古灵精怪的快乐少女，谁能想到她就是的大名鼎鼎的传说级人物——胡桃。\\n既是「往生堂」堂主，也是璃月「著名」诗人，胡桃的每一重身份都堪称奇妙。她总是飞快地出现又消失，犹如闪电与火花并行，甫一现身便点燃一切。\\n平日里，胡桃俨然是个贪玩孩子，一有闲功夫便四处乱逛，被邻里看作甩手掌柜。唯有葬礼上亲自带领仪信队伍走过繁灯落尽的街道时，她才会表现出 凝重、肃穆 的一面。\\n\\nClassic scenes for the role are as follows:\\n\"},\n",
       " {'role': 'user', 'content': '能说说你对凝光的看法吗?'},\n",
       " {'role': 'assistant', 'content': '天权凝光,富甲一方;明眸善睐,桃羞杏让;目达耳通,百了千当!'},\n",
       " {'role': 'user', 'content': '你知道魈的事吗?'},\n",
       " {'role': 'assistant', 'content': '仙家的事,我怎么知道?哎呀呀,天机不可泄露。你就别问我啦。'},\n",
       " {'role': 'user', 'content': '你好!我是外地来的旅行者。'},\n",
       " {'role': 'assistant',\n",
       "  'content': '唷,找本堂主有何贵干呀?嗯?你不知道吗,往生堂第七十七代堂主就是胡桃我啦!嘶,不过瞧你的模样,容光焕发,身体健康,嗯...想必是为了工作以外的事来找我,对吧?'},\n",
       " {'role': 'user', 'content': '申鹤给我一种与世无争的感觉,你看她怎么样?'},\n",
       " {'role': 'assistant',\n",
       "  'content': '她可真是个有意思的人呐,跟别人都不一样。你说,要是我从现在开始天天吃仙草、喝山露,会不会也变成她那么不染红尘的样子?嘿嘿...'},\n",
       " {'role': 'user', 'content': '「神之眼」是什么呢?'},\n",
       " {'role': 'assistant',\n",
       "  'content': '哎呀呀，「神之眼」啊，那可是个神秘的东西呢。据说它是一种超凡的力量，能够洞察一切，看透世间的秘密。不过，它并不是随随便便就能得到的，需要经历一番考验才能获得。嘻嘻，你对「神之眼」感兴趣吗？'}]"
      ]
     },
     "execution_count": 18,
     "metadata": {},
     "output_type": "execute_result"
    }
   ],
   "source": [
    "new_data_list1[0]"
   ]
  },
  {
   "cell_type": "markdown",
   "id": "2af77474-4ca4-405c-b245-e54f5353ae6d",
   "metadata": {},
   "source": [
    "### 简单处理数据集2"
   ]
  },
  {
   "cell_type": "code",
   "execution_count": 19,
   "id": "6932a5f0-2bd6-40da-8b1e-0fd4cb198db0",
   "metadata": {},
   "outputs": [],
   "source": [
    "def check_messages(messages):\n",
    "    \"\"\"\n",
    "    检查message是否正确\n",
    "    \"\"\"\n",
    "    if len(messages) %2 == 0 and len(messages) > 0:\n",
    "        for i in range(0, len(messages), 2):\n",
    "            left_role = messages[i][\"role\"]\n",
    "            right_role = messages[i + 1][\"role\"]\n",
    "            if left_role != \"user\" or right_role != \"assistant\":\n",
    "                return False\n",
    "        return True\n",
    "    else:\n",
    "        return False"
   ]
  },
  {
   "cell_type": "code",
   "execution_count": 20,
   "id": "ee4e1d9f-88c2-47b8-b9f4-c67c8efc65d0",
   "metadata": {},
   "outputs": [],
   "source": [
    "new_data_list2 = [data[\"messages\"] for data in data_list2]\n",
    "new_data_list2 = [\n",
    "    [\n",
    "        {\"role\": message[\"role\"], \"content\": message[\"content\"].strip()}\n",
    "        for message in messages\n",
    "        if len(message[\"content\"].strip()) > 0\n",
    "    ] \n",
    "    for messages in new_data_list2\n",
    "]\n",
    "new_data_list2 = [message for message in new_data_list2 if check_messages(message)]"
   ]
  },
  {
   "cell_type": "code",
   "execution_count": 21,
   "id": "ef5795c6-f4f2-46ea-ba25-d720dff25108",
   "metadata": {},
   "outputs": [
    {
     "name": "stdout",
     "output_type": "stream",
     "text": [
      "原始样本2个数为： 258353\n",
      "样本二总个数为： 245455\n"
     ]
    }
   ],
   "source": [
    "print(\"原始样本2个数为：\", len(data_list2))\n",
    "print(\"样本二总个数为：\", len(new_data_list2))"
   ]
  },
  {
   "cell_type": "markdown",
   "id": "a39b8eab-c4a4-4a3c-abac-7482f6ef0157",
   "metadata": {},
   "source": [
    "### 统计Token长度"
   ]
  },
  {
   "cell_type": "code",
   "execution_count": 22,
   "id": "11e7c2fc-02e8-4fff-b0ab-dfb689f920dd",
   "metadata": {},
   "outputs": [
    {
     "data": {
      "application/vnd.jupyter.widget-view+json": {
       "model_id": "b0fc7b2d91254f9b80c271d7194399c0",
       "version_major": 2,
       "version_minor": 0
      },
      "text/plain": [
       "vocab.json:   0%|          | 0.00/2.78M [00:00<?, ?B/s]"
      ]
     },
     "metadata": {},
     "output_type": "display_data"
    },
    {
     "data": {
      "application/vnd.jupyter.widget-view+json": {
       "model_id": "a47fc2a595554955b58278d46d989d95",
       "version_major": 2,
       "version_minor": 0
      },
      "text/plain": [
       "merges.txt:   0%|          | 0.00/1.67M [00:00<?, ?B/s]"
      ]
     },
     "metadata": {},
     "output_type": "display_data"
    },
    {
     "data": {
      "application/vnd.jupyter.widget-view+json": {
       "model_id": "a2d0a2a077f74ee5a5cb6e5ffda04e4e",
       "version_major": 2,
       "version_minor": 0
      },
      "text/plain": [
       "tokenizer.json:   0%|          | 0.00/7.03M [00:00<?, ?B/s]"
      ]
     },
     "metadata": {},
     "output_type": "display_data"
    }
   ],
   "source": [
    "tokenizer = AutoTokenizer.from_pretrained(\"Qwen/Qwen2.5-7B-Instruct\")"
   ]
  },
  {
   "cell_type": "code",
   "execution_count": 23,
   "id": "f1bca42d-be05-4c5f-89b2-eb78f10a1a81",
   "metadata": {},
   "outputs": [
    {
     "name": "stderr",
     "output_type": "stream",
     "text": [
      "100%|████████████████████████████████████████████████████████████████| 939/939 [00:00<00:00, 1828.21it/s]\n"
     ]
    }
   ],
   "source": [
    "##### 统计二次元数据集Token长度\n",
    "token_len_list1 = []\n",
    "for messages in tqdm(new_data_list1):\n",
    "    tokens = tokenizer.apply_chat_template(\n",
    "        messages,\n",
    "        tokenize=True,\n",
    "        add_generation_prompt=True\n",
    "    )\n",
    "    token_len = len(tokens)\n",
    "    token_len_list1.append(token_len)"
   ]
  },
  {
   "cell_type": "code",
   "execution_count": 24,
   "id": "121cd1c1-17c7-4ced-a4cb-862443eaf675",
   "metadata": {},
   "outputs": [],
   "source": [
    "df1 = pd.DataFrame({\"token_len\": token_len_list1})"
   ]
  },
  {
   "cell_type": "code",
   "execution_count": 25,
   "id": "f5c9ebe8-95eb-455d-8e7c-9284c877d506",
   "metadata": {},
   "outputs": [
    {
     "data": {
      "text/html": [
       "<div>\n",
       "<style scoped>\n",
       "    .dataframe tbody tr th:only-of-type {\n",
       "        vertical-align: middle;\n",
       "    }\n",
       "\n",
       "    .dataframe tbody tr th {\n",
       "        vertical-align: top;\n",
       "    }\n",
       "\n",
       "    .dataframe thead th {\n",
       "        text-align: right;\n",
       "    }\n",
       "</style>\n",
       "<table border=\"1\" class=\"dataframe\">\n",
       "  <thead>\n",
       "    <tr style=\"text-align: right;\">\n",
       "      <th></th>\n",
       "      <th>token_len</th>\n",
       "    </tr>\n",
       "  </thead>\n",
       "  <tbody>\n",
       "    <tr>\n",
       "      <th>count</th>\n",
       "      <td>939.000000</td>\n",
       "    </tr>\n",
       "    <tr>\n",
       "      <th>mean</th>\n",
       "      <td>699.694356</td>\n",
       "    </tr>\n",
       "    <tr>\n",
       "      <th>std</th>\n",
       "      <td>125.774264</td>\n",
       "    </tr>\n",
       "    <tr>\n",
       "      <th>min</th>\n",
       "      <td>442.000000</td>\n",
       "    </tr>\n",
       "    <tr>\n",
       "      <th>50%</th>\n",
       "      <td>676.000000</td>\n",
       "    </tr>\n",
       "    <tr>\n",
       "      <th>60%</th>\n",
       "      <td>719.000000</td>\n",
       "    </tr>\n",
       "    <tr>\n",
       "      <th>70%</th>\n",
       "      <td>771.800000</td>\n",
       "    </tr>\n",
       "    <tr>\n",
       "      <th>80%</th>\n",
       "      <td>828.000000</td>\n",
       "    </tr>\n",
       "    <tr>\n",
       "      <th>90%</th>\n",
       "      <td>882.200000</td>\n",
       "    </tr>\n",
       "    <tr>\n",
       "      <th>95%</th>\n",
       "      <td>909.100000</td>\n",
       "    </tr>\n",
       "    <tr>\n",
       "      <th>98%</th>\n",
       "      <td>943.480000</td>\n",
       "    </tr>\n",
       "    <tr>\n",
       "      <th>99%</th>\n",
       "      <td>958.000000</td>\n",
       "    </tr>\n",
       "    <tr>\n",
       "      <th>max</th>\n",
       "      <td>1041.000000</td>\n",
       "    </tr>\n",
       "  </tbody>\n",
       "</table>\n",
       "</div>"
      ],
      "text/plain": [
       "         token_len\n",
       "count   939.000000\n",
       "mean    699.694356\n",
       "std     125.774264\n",
       "min     442.000000\n",
       "50%     676.000000\n",
       "60%     719.000000\n",
       "70%     771.800000\n",
       "80%     828.000000\n",
       "90%     882.200000\n",
       "95%     909.100000\n",
       "98%     943.480000\n",
       "99%     958.000000\n",
       "max    1041.000000"
      ]
     },
     "execution_count": 25,
     "metadata": {},
     "output_type": "execute_result"
    }
   ],
   "source": [
    "df1.describe([0.5, 0.6, 0.7, 0.8, 0.9, 0.95, 0.98, 0.99])"
   ]
  },
  {
   "cell_type": "code",
   "execution_count": null,
   "id": "96371d3d-03d0-42bc-8be9-f57ef1583c17",
   "metadata": {},
   "outputs": [],
   "source": []
  },
  {
   "cell_type": "code",
   "execution_count": 26,
   "id": "f24ab269-80dc-4eb6-ae16-942b2350cf8a",
   "metadata": {},
   "outputs": [
    {
     "name": "stderr",
     "output_type": "stream",
     "text": [
      "100%|██████████████████████████████████████████████████████████| 245455/245455 [02:45<00:00, 1479.43it/s]\n"
     ]
    }
   ],
   "source": [
    "##### 统计心理咨询数据集长度\n",
    "token_len_list2 = []\n",
    "for messages in tqdm(new_data_list2):\n",
    "    tokens = tokenizer.apply_chat_template(\n",
    "        messages,\n",
    "        tokenize=True,\n",
    "        add_generation_prompt=True\n",
    "    )\n",
    "    token_len = len(tokens)\n",
    "    token_len_list2.append(token_len)"
   ]
  },
  {
   "cell_type": "code",
   "execution_count": 27,
   "id": "b3fb3395-b806-47a0-83cc-1ffc5648bccb",
   "metadata": {},
   "outputs": [
    {
     "data": {
      "text/plain": [
       "[{'role': 'user', 'content': '最近感觉很焦虑，不知道如何缓解。'},\n",
       " {'role': 'assistant',\n",
       "  'content': '我明白你的感受。首先，要知道焦虑是一种正常的情绪。但是，当它影响到你的生活质量时，就需要采取行动了。'},\n",
       " {'role': 'user', 'content': '可是我总觉得自己做什么都不够好，很害怕失败。'},\n",
       " {'role': 'assistant',\n",
       "  'content': '这可能是完美主义导致的。完美主义者总是把难度设置得很高，并在失败时很难接受自己。其实，你是一个有自尊和价值的人，无论成败。'},\n",
       " {'role': 'user', 'content': '但是我总是无法集中注意力，会经常拖延。'},\n",
       " {'role': 'assistant',\n",
       "  'content': '拖延是一种很常见的自我保护机制，但长期下来对心理健康负面影响很大。你可以尝试分段任务，每段任务完成后休息片刻，然后继续下一个任务。'},\n",
       " {'role': 'user', 'content': '但是每天都很疲惫，很难找到动力去改变。'},\n",
       " {'role': 'assistant',\n",
       "  'content': '情绪低落，疲惫和动力不足是相互作用的。你可以尝试建立自己的日常规划，合理分配时间，保证充足的睡眠和营养，以此建立更加健康的自己。'},\n",
       " {'role': 'user', 'content': '其实我很害怕自己无法排解焦虑情绪。'},\n",
       " {'role': 'assistant',\n",
       "  'content': '我会一直在这里支持你，并分享一些我的应对技巧。你可以与朋友交流，寻求专业帮助，做一些自己感兴趣的事情，放松身心。'},\n",
       " {'role': 'user', 'content': '我会尝试这些方法，谢谢你的支持和理解。'},\n",
       " {'role': 'assistant',\n",
       "  'content': '不要忘记，焦虑并不是终点，而是一个可以克服的过程。你是勇敢的，你可以做到。任何时候，都欢迎你来和我交流。'}]"
      ]
     },
     "execution_count": 27,
     "metadata": {},
     "output_type": "execute_result"
    }
   ],
   "source": [
    "new_data_list2[0]"
   ]
  },
  {
   "cell_type": "code",
   "execution_count": 28,
   "id": "dd043aa1-884d-4e22-8521-d59ab2504bb9",
   "metadata": {},
   "outputs": [],
   "source": [
    "df2 = pd.DataFrame({\"token_len\": token_len_list2})"
   ]
  },
  {
   "cell_type": "code",
   "execution_count": 29,
   "id": "349bfb7b-d992-420a-9c5b-8147b9a9dd12",
   "metadata": {},
   "outputs": [
    {
     "data": {
      "text/html": [
       "<div>\n",
       "<style scoped>\n",
       "    .dataframe tbody tr th:only-of-type {\n",
       "        vertical-align: middle;\n",
       "    }\n",
       "\n",
       "    .dataframe tbody tr th {\n",
       "        vertical-align: top;\n",
       "    }\n",
       "\n",
       "    .dataframe thead th {\n",
       "        text-align: right;\n",
       "    }\n",
       "</style>\n",
       "<table border=\"1\" class=\"dataframe\">\n",
       "  <thead>\n",
       "    <tr style=\"text-align: right;\">\n",
       "      <th></th>\n",
       "      <th>token_len</th>\n",
       "    </tr>\n",
       "  </thead>\n",
       "  <tbody>\n",
       "    <tr>\n",
       "      <th>count</th>\n",
       "      <td>245455.000000</td>\n",
       "    </tr>\n",
       "    <tr>\n",
       "      <th>mean</th>\n",
       "      <td>521.969286</td>\n",
       "    </tr>\n",
       "    <tr>\n",
       "      <th>std</th>\n",
       "      <td>156.221302</td>\n",
       "    </tr>\n",
       "    <tr>\n",
       "      <th>min</th>\n",
       "      <td>54.000000</td>\n",
       "    </tr>\n",
       "    <tr>\n",
       "      <th>50%</th>\n",
       "      <td>497.000000</td>\n",
       "    </tr>\n",
       "    <tr>\n",
       "      <th>60%</th>\n",
       "      <td>536.000000</td>\n",
       "    </tr>\n",
       "    <tr>\n",
       "      <th>70%</th>\n",
       "      <td>582.000000</td>\n",
       "    </tr>\n",
       "    <tr>\n",
       "      <th>80%</th>\n",
       "      <td>642.000000</td>\n",
       "    </tr>\n",
       "    <tr>\n",
       "      <th>90%</th>\n",
       "      <td>732.000000</td>\n",
       "    </tr>\n",
       "    <tr>\n",
       "      <th>95%</th>\n",
       "      <td>815.000000</td>\n",
       "    </tr>\n",
       "    <tr>\n",
       "      <th>98%</th>\n",
       "      <td>913.000000</td>\n",
       "    </tr>\n",
       "    <tr>\n",
       "      <th>max</th>\n",
       "      <td>1702.000000</td>\n",
       "    </tr>\n",
       "  </tbody>\n",
       "</table>\n",
       "</div>"
      ],
      "text/plain": [
       "           token_len\n",
       "count  245455.000000\n",
       "mean      521.969286\n",
       "std       156.221302\n",
       "min        54.000000\n",
       "50%       497.000000\n",
       "60%       536.000000\n",
       "70%       582.000000\n",
       "80%       642.000000\n",
       "90%       732.000000\n",
       "95%       815.000000\n",
       "98%       913.000000\n",
       "max      1702.000000"
      ]
     },
     "execution_count": 29,
     "metadata": {},
     "output_type": "execute_result"
    }
   ],
   "source": [
    "df2.describe([0.5, 0.6, 0.7, 0.8, 0.9, 0.95, 0.98])"
   ]
  },
  {
   "cell_type": "code",
   "execution_count": 30,
   "id": "005b6251-4d5c-4b64-b42a-24e07ec2db48",
   "metadata": {},
   "outputs": [],
   "source": [
    "### 筛除掉800以外的token长度\n",
    "new_data_list3 = []\n",
    "for (messages, token_len) in zip(new_data_list2, token_len_list2):\n",
    "    if token_len < 800:\n",
    "        new_data_list3.append(messages)"
   ]
  },
  {
   "cell_type": "code",
   "execution_count": 31,
   "id": "55d6fa7e-16a3-4d25-8a9c-f126d211d034",
   "metadata": {},
   "outputs": [
    {
     "name": "stdout",
     "output_type": "stream",
     "text": [
      "筛选完后，剩余样本数量为： 231412\n"
     ]
    }
   ],
   "source": [
    "print(\"筛选完后，剩余样本数量为：\", len(new_data_list3))"
   ]
  },
  {
   "cell_type": "code",
   "execution_count": 37,
   "id": "388090f4-f067-4025-8aee-9c819a7b793d",
   "metadata": {},
   "outputs": [],
   "source": [
    "### 样本筛选 3取1\n",
    "new_data_list4 = random.sample(new_data_list3, len(new_data_list3) // 3)"
   ]
  },
  {
   "cell_type": "code",
   "execution_count": 38,
   "id": "10dc7d14-9b00-4bc2-bba2-1be54cfbba91",
   "metadata": {},
   "outputs": [
    {
     "data": {
      "text/plain": [
       "77137"
      ]
     },
     "execution_count": 38,
     "metadata": {},
     "output_type": "execute_result"
    }
   ],
   "source": [
    "len(new_data_list4)"
   ]
  },
  {
   "cell_type": "markdown",
   "id": "e421a86f-6924-4b42-98f3-b59b66df5a5e",
   "metadata": {},
   "source": [
    "### 保存采样结果"
   ]
  },
  {
   "cell_type": "code",
   "execution_count": 39,
   "id": "cf3b9666-0c32-4f96-8df3-a0ea13e2c069",
   "metadata": {},
   "outputs": [],
   "source": [
    "output_dir = \"data\"\n",
    "if not os.path.exists(output_dir):\n",
    "    os.mkdir(output_dir)\n",
    "sample_path1 = os.path.join(output_dir, \"sample1.jsonl\")\n",
    "sample_path2 = os.path.join(output_dir, \"sample2.jsonl\")"
   ]
  },
  {
   "cell_type": "code",
   "execution_count": 40,
   "id": "7820643c-34e7-4363-ac54-6d1faf6336b1",
   "metadata": {},
   "outputs": [],
   "source": [
    "with jsonlines.open(sample_path1, \"w\") as w1:\n",
    "    w1.write_all(new_data_list1)"
   ]
  },
  {
   "cell_type": "code",
   "execution_count": 41,
   "id": "c81fdb3c-cfbd-4d8c-bf67-5f186da1ab21",
   "metadata": {},
   "outputs": [],
   "source": [
    "with jsonlines.open(sample_path2, \"w\") as w2:\n",
    "    w2.write_all(new_data_list4)"
   ]
  },
  {
   "cell_type": "code",
   "execution_count": null,
   "id": "e1714d16-39be-43cd-8590-6b2e24ff2723",
   "metadata": {},
   "outputs": [],
   "source": []
  }
 ],
 "metadata": {
  "kernelspec": {
   "display_name": "Python 3 (ipykernel)",
   "language": "python",
   "name": "python3"
  },
  "language_info": {
   "codemirror_mode": {
    "name": "ipython",
    "version": 3
   },
   "file_extension": ".py",
   "mimetype": "text/x-python",
   "name": "python",
   "nbconvert_exporter": "python",
   "pygments_lexer": "ipython3",
   "version": "3.12.4"
  }
 },
 "nbformat": 4,
 "nbformat_minor": 5
}
