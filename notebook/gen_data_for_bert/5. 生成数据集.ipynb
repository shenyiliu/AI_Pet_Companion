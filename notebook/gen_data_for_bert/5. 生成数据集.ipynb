{
 "cells": [
  {
   "cell_type": "code",
   "execution_count": 1,
   "id": "eac427d2-0861-4f09-aef4-ca4ed8da4775",
   "metadata": {},
   "outputs": [
    {
     "name": "stderr",
     "output_type": "stream",
     "text": [
      "/home/tlntin/anaconda3/envs/pytorch/lib/python3.10/site-packages/tqdm/auto.py:21: TqdmWarning: IProgress not found. Please update jupyter and ipywidgets. See https://ipywidgets.readthedocs.io/en/stable/user_install.html\n",
      "  from .autonotebook import tqdm as notebook_tqdm\n"
     ]
    }
   ],
   "source": [
    "import os\n",
    "import json\n",
    "import random\n",
    "import numpy as np\n",
    "import pandas as pd\n",
    "from transformers import AutoTokenizer"
   ]
  },
  {
   "cell_type": "code",
   "execution_count": 2,
   "id": "325530c6-3fd1-4b3a-a326-9735655ecd71",
   "metadata": {},
   "outputs": [],
   "source": [
    "raw_dataset_dir = \"dataset\"\n",
    "new_dataset_dir = \"data\""
   ]
  },
  {
   "cell_type": "code",
   "execution_count": 3,
   "id": "537109db-dd28-4f33-8613-49e429a119d8",
   "metadata": {},
   "outputs": [],
   "source": [
    "if not os.path.exists(new_dataset_dir):\n",
    "    os.mkdir(new_dataset_dir)"
   ]
  },
  {
   "cell_type": "code",
   "execution_count": 4,
   "id": "ca66b8f4-8bdc-4f9e-98fd-431f0a50ed4c",
   "metadata": {},
   "outputs": [],
   "source": [
    "file_list1 = os.listdir(raw_dataset_dir)\n",
    "file_list1 = [file for file in file_list1 if file.endswith(\".json\")]"
   ]
  },
  {
   "cell_type": "code",
   "execution_count": 5,
   "id": "5169cae8-976b-49d6-8c24-ea1ff9b7ce0e",
   "metadata": {},
   "outputs": [],
   "source": [
    "result_datas = []\n",
    "entity_set = set()\n",
    "intent_list = []\n",
    "for file in file_list1:\n",
    "    file_path = os.path.join(raw_dataset_dir, file)\n",
    "    # 获取意图\n",
    "    intent = os.path.splitext(file)[0].upper()\n",
    "    intent_list.append(intent)\n",
    "    # 读取文件\n",
    "    with open(file_path, \"rt\", encoding=\"utf-8\") as f:\n",
    "        data_list = json.load(f)\n",
    "    for data in data_list:\n",
    "        text = data[\"text\"]\n",
    "        entity_dict = data.get(\"entity\", {})\n",
    "        entity = []\n",
    "        if len(entity_dict) > 0:\n",
    "            entity_type = intent + \"/\" + entity_dict.get(\"type\")\n",
    "            entity_start = entity_dict.get(\"start\")\n",
    "            entity_end = entity_dict.get(\"end\")\n",
    "            entity.append([entity_start, entity_end, entity_type])\n",
    "            # 记录一下实体总类\n",
    "            entity_set.add(entity_type)\n",
    "        temp_data = {\"text\": text, \"intent\": intent, \"entity\": entity}\n",
    "        result_datas.append(temp_data)"
   ]
  },
  {
   "cell_type": "code",
   "execution_count": 6,
   "id": "5533ead5-de8e-4f51-b1a2-e31027d8a33a",
   "metadata": {},
   "outputs": [
    {
     "name": "stdout",
     "output_type": "stream",
     "text": [
      "数据总数： 3212 意图总数： 11 实体总数： 19\n"
     ]
    }
   ],
   "source": [
    "print(\"数据总数：\", len(result_datas), \"意图总数：\", len(intent_list), \"实体总数：\", len(entity_set))"
   ]
  },
  {
   "cell_type": "code",
   "execution_count": 7,
   "id": "2973768b-5578-4c71-a013-e2906625f298",
   "metadata": {},
   "outputs": [
    {
     "data": {
      "text/plain": [
       "['VOLUME',\n",
       " 'POWER_SAVING_MODE',\n",
       " 'VIDEO_CHAT',\n",
       " 'BATTERY',\n",
       " 'TASK_MANAGER',\n",
       " 'CAMERA',\n",
       " 'SCREENSHOT',\n",
       " 'BRIGHTNESS',\n",
       " 'AIRPLANE_MODE',\n",
       " 'SYSTEM_INFO',\n",
       " 'CALCULATOR']"
      ]
     },
     "execution_count": 7,
     "metadata": {},
     "output_type": "execute_result"
    }
   ],
   "source": [
    "intent_list"
   ]
  },
  {
   "cell_type": "code",
   "execution_count": 8,
   "id": "9b459d87-9aa6-4dba-966b-83c4261a334e",
   "metadata": {},
   "outputs": [
    {
     "data": {
      "text/plain": [
       "['AIRPLANE_MODE/Off',\n",
       " 'AIRPLANE_MODE/On',\n",
       " 'BRIGHTNESS/Add',\n",
       " 'BRIGHTNESS/Sub',\n",
       " 'BRIGHTNESS/To',\n",
       " 'CALCULATOR/Off',\n",
       " 'CALCULATOR/On',\n",
       " 'CAMERA/Off',\n",
       " 'CAMERA/On',\n",
       " 'POWER_SAVING_MODE/Off',\n",
       " 'POWER_SAVING_MODE/On',\n",
       " 'TASK_MANAGER/Off',\n",
       " 'TASK_MANAGER/On',\n",
       " 'VIDEO_CHAT/Off',\n",
       " 'VIDEO_CHAT/On',\n",
       " 'VOLUME/Add',\n",
       " 'VOLUME/Close',\n",
       " 'VOLUME/Sub',\n",
       " 'VOLUME/To']"
      ]
     },
     "execution_count": 8,
     "metadata": {},
     "output_type": "execute_result"
    }
   ],
   "source": [
    "entity_list = list(entity_set)\n",
    "entity_list.sort()\n",
    "entity_list"
   ]
  },
  {
   "cell_type": "markdown",
   "id": "f47628dc-bc52-442f-b334-5ca6a2ee0727",
   "metadata": {},
   "source": [
    "### 分析Token长度分布"
   ]
  },
  {
   "cell_type": "code",
   "execution_count": 9,
   "id": "a4ff6695-f75c-4bdc-ae00-4193faedb324",
   "metadata": {},
   "outputs": [],
   "source": [
    "tokenizer = AutoTokenizer.from_pretrained(\"google-bert/bert-base-chinese\")\n",
    "seq_len_list = []\n",
    "for data in result_datas:\n",
    "    token_dict = tokenizer(data[\"text\"])\n",
    "    input_ids = token_dict[\"input_ids\"]\n",
    "    seq_len = len(input_ids)\n",
    "    seq_len_list.append(seq_len)"
   ]
  },
  {
   "cell_type": "code",
   "execution_count": 10,
   "id": "567d4251-0381-4ffd-94e8-fc28ecfed92f",
   "metadata": {},
   "outputs": [],
   "source": [
    "# seq_len_list"
   ]
  },
  {
   "cell_type": "code",
   "execution_count": 11,
   "id": "2e52e18b-9996-4715-9333-945b4acff540",
   "metadata": {},
   "outputs": [],
   "source": [
    "df1 = pd.DataFrame({\"seq_len\": seq_len_list})"
   ]
  },
  {
   "cell_type": "code",
   "execution_count": 12,
   "id": "14a67a82-9224-4873-baa4-2be777d8e14f",
   "metadata": {},
   "outputs": [
    {
     "data": {
      "text/html": [
       "<div>\n",
       "<style scoped>\n",
       "    .dataframe tbody tr th:only-of-type {\n",
       "        vertical-align: middle;\n",
       "    }\n",
       "\n",
       "    .dataframe tbody tr th {\n",
       "        vertical-align: top;\n",
       "    }\n",
       "\n",
       "    .dataframe thead th {\n",
       "        text-align: right;\n",
       "    }\n",
       "</style>\n",
       "<table border=\"1\" class=\"dataframe\">\n",
       "  <thead>\n",
       "    <tr style=\"text-align: right;\">\n",
       "      <th></th>\n",
       "      <th>seq_len</th>\n",
       "    </tr>\n",
       "  </thead>\n",
       "  <tbody>\n",
       "    <tr>\n",
       "      <th>count</th>\n",
       "      <td>3212.000000</td>\n",
       "    </tr>\n",
       "    <tr>\n",
       "      <th>mean</th>\n",
       "      <td>12.089041</td>\n",
       "    </tr>\n",
       "    <tr>\n",
       "      <th>std</th>\n",
       "      <td>2.883848</td>\n",
       "    </tr>\n",
       "    <tr>\n",
       "      <th>min</th>\n",
       "      <td>6.000000</td>\n",
       "    </tr>\n",
       "    <tr>\n",
       "      <th>25%</th>\n",
       "      <td>10.000000</td>\n",
       "    </tr>\n",
       "    <tr>\n",
       "      <th>50%</th>\n",
       "      <td>12.000000</td>\n",
       "    </tr>\n",
       "    <tr>\n",
       "      <th>75%</th>\n",
       "      <td>14.000000</td>\n",
       "    </tr>\n",
       "    <tr>\n",
       "      <th>max</th>\n",
       "      <td>23.000000</td>\n",
       "    </tr>\n",
       "  </tbody>\n",
       "</table>\n",
       "</div>"
      ],
      "text/plain": [
       "           seq_len\n",
       "count  3212.000000\n",
       "mean     12.089041\n",
       "std       2.883848\n",
       "min       6.000000\n",
       "25%      10.000000\n",
       "50%      12.000000\n",
       "75%      14.000000\n",
       "max      23.000000"
      ]
     },
     "execution_count": 12,
     "metadata": {},
     "output_type": "execute_result"
    }
   ],
   "source": [
    "df1.describe()"
   ]
  },
  {
   "cell_type": "code",
   "execution_count": 13,
   "id": "1f37e069-d238-4c51-a820-e4cf69c5984c",
   "metadata": {},
   "outputs": [],
   "source": [
    "# 最大输入长度可以定128\n",
    "max_seq_len = 128"
   ]
  },
  {
   "cell_type": "markdown",
   "id": "3caa1e85-ec6a-4d12-aa55-a49c71189ddd",
   "metadata": {},
   "source": [
    "### 按类别/实体类型做切分，暂定9:1"
   ]
  },
  {
   "cell_type": "code",
   "execution_count": 14,
   "id": "84d3a40c-0e5e-42b5-9798-5c49678fbfff",
   "metadata": {},
   "outputs": [],
   "source": [
    "from collections import defaultdict\n",
    "label_datas = defaultdict(list)"
   ]
  },
  {
   "cell_type": "code",
   "execution_count": 15,
   "id": "8a1ad6d3-a423-4814-8bf7-a8c0552db09b",
   "metadata": {},
   "outputs": [],
   "source": [
    "for data in result_datas:\n",
    "    intent = data[\"intent\"]\n",
    "    entity_data = data.get(\"entity\", [])\n",
    "    # 优先对实体类别做切分\n",
    "    if len(entity_data) > 0:\n",
    "        entity_type = entity_data[0][2]\n",
    "        label_datas[entity_type].append(data)\n",
    "    else:\n",
    "        label_datas[intent].append(data)"
   ]
  },
  {
   "cell_type": "code",
   "execution_count": 16,
   "id": "d23a43aa-2dc8-419d-8a75-c654da3d8b9b",
   "metadata": {},
   "outputs": [
    {
     "data": {
      "text/plain": [
       "22"
      ]
     },
     "execution_count": 16,
     "metadata": {},
     "output_type": "execute_result"
    }
   ],
   "source": [
    "len(label_datas.keys())"
   ]
  },
  {
   "cell_type": "code",
   "execution_count": 17,
   "id": "9b1c00c6-df25-471f-975f-4656fa61eac0",
   "metadata": {},
   "outputs": [],
   "source": [
    "train_datasets = []\n",
    "valid_datasets = []\n",
    "for (key, values) in label_datas.items():\n",
    "    data_size = len(values)\n",
    "    train_size = int(data_size * 0.9)\n",
    "    train_indices = np.random.choice(list(range(data_size)), size=train_size, replace=False)\n",
    "    train_datas = np.take(values, train_indices)\n",
    "    valid_indices = list(set(range(data_size)) - set(train_indices))\n",
    "    valid_datas = np.take(values, valid_indices)\n",
    "    train_datasets.extend(train_datas)\n",
    "    valid_datasets.extend(valid_datas)"
   ]
  },
  {
   "cell_type": "code",
   "execution_count": 18,
   "id": "0e3c7d2f-cf35-49c0-9f6c-f70096db3c55",
   "metadata": {},
   "outputs": [
    {
     "name": "stdout",
     "output_type": "stream",
     "text": [
      "训练集数据为：2881条，测试级数据为：331条\n"
     ]
    }
   ],
   "source": [
    "print(f\"训练集数据为：{len(train_datasets)}条，测试级数据为：{len(valid_datasets)}条\")"
   ]
  },
  {
   "cell_type": "markdown",
   "id": "4399a5b8-c084-4952-b510-4b61d85dd7ed",
   "metadata": {},
   "source": [
    "### 保存结果"
   ]
  },
  {
   "cell_type": "code",
   "execution_count": 19,
   "id": "fad67dff-bfc2-4ee6-98d1-7ffaf0a1d82f",
   "metadata": {},
   "outputs": [],
   "source": [
    "train_path = os.path.join(\"data\", \"train.json\")\n",
    "valid_path = os.path.join(\"data\", \"valid.json\")\n",
    "intent_label_path = os.path.join(\"data\", \"intent_label.json\")\n",
    "entity_label_path = os.path.join(\"data\", \"entity_label.json\")"
   ]
  },
  {
   "cell_type": "code",
   "execution_count": 20,
   "id": "6292701a-a9da-489f-b2ee-95b63e89609d",
   "metadata": {},
   "outputs": [],
   "source": [
    "intent2id = {intent: i for i, intent in enumerate(intent_list)}\n",
    "id2intent = {str(i): intent for i, intent in enumerate(intent_list)}\n",
    "intent_dict = {\"intent2id\": intent2id, \"id2intent\": id2intent}"
   ]
  },
  {
   "cell_type": "code",
   "execution_count": 21,
   "id": "1271ce08-ac02-498f-a900-456f1f0af89f",
   "metadata": {},
   "outputs": [],
   "source": [
    "entity2id = {entity: i for i, entity in enumerate(entity_list)}\n",
    "id2entity = {str(i): entity for i, entity in enumerate(entity_list)}\n",
    "entity_dict = {\"entity2id\": entity2id, \"id2entity\": id2entity}"
   ]
  },
  {
   "cell_type": "code",
   "execution_count": 22,
   "id": "f17e8b72-4b77-4f1f-adda-d21ae6dec808",
   "metadata": {},
   "outputs": [],
   "source": [
    "with open(train_path, \"wt\", encoding=\"utf-8\") as f1:\n",
    "    json.dump(train_datasets, f1, indent=4, ensure_ascii=False)\n",
    "with open(valid_path, \"wt\", encoding=\"utf-8\") as f2:\n",
    "    json.dump(valid_datasets, f2, indent=4, ensure_ascii=False)\n",
    "with open(intent_label_path, \"wt\", encoding=\"utf-8\") as f3:\n",
    "    json.dump(intent_dict, f3, indent=4, ensure_ascii=False)\n",
    "with open(entity_label_path, \"wt\", encoding=\"utf-8\") as f4:\n",
    "    json.dump(entity_dict, f4, indent=4, ensure_ascii=False)"
   ]
  },
  {
   "cell_type": "code",
   "execution_count": null,
   "id": "ccded87c-3d11-4e8f-9e42-184eeddc8d1c",
   "metadata": {},
   "outputs": [],
   "source": []
  },
  {
   "cell_type": "code",
   "execution_count": null,
   "id": "879eb44f-e545-4630-afd7-49768d962494",
   "metadata": {},
   "outputs": [],
   "source": []
  },
  {
   "cell_type": "code",
   "execution_count": null,
   "id": "cf3668e1-112a-4881-96e9-7a92e2921399",
   "metadata": {},
   "outputs": [],
   "source": []
  }
 ],
 "metadata": {
  "kernelspec": {
   "display_name": "Python 3 (ipykernel)",
   "language": "python",
   "name": "python3"
  },
  "language_info": {
   "codemirror_mode": {
    "name": "ipython",
    "version": 3
   },
   "file_extension": ".py",
   "mimetype": "text/x-python",
   "name": "python",
   "nbconvert_exporter": "python",
   "pygments_lexer": "ipython3",
   "version": "3.10.0"
  }
 },
 "nbformat": 4,
 "nbformat_minor": 5
}
