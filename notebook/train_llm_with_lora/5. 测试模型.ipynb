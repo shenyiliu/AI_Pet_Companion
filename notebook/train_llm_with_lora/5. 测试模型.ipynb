{
 "cells": [
  {
   "cell_type": "markdown",
   "id": "835793cc-0921-49a7-a553-db954a31db98",
   "metadata": {},
   "source": [
    "### 测试模型\n",
    "1. 下载py文件。\n",
    "```bash\n",
    "wget https://raw.githubusercontent.com/QwenLM/Qwen2.5/refs/heads/main/examples/demo/web_demo.py\n",
    "```\n",
    "\n",
    "2. 安装依赖\n",
    "```bash\n",
    "pip install \"gradio==4.44.1\" mdtex2html\n",
    "```\n",
    "\n",
    "3. 修改web_demo.py,大概在77行，这里需要注入系统提示词。\n",
    "- 修改前\n",
    "```python\n",
    "conversation = []\n",
    "for query_h, response_h in history:\n",
    "    conversation.append({\"role\": \"user\", \"content\": query_h})\n",
    "    conversation.append({\"role\": \"assistant\", \"content\": response_h})\n",
    "```\n",
    "- 修改后\n",
    "```python\n",
    "system_prompt = \"\"\"\n",
    "Please be aware that your codename in this  conversation is ‘胡桃'  ‘Hutao’,\n",
    "别人称呼你‘胡桃’‘堂主’‘往生堂堂主’\n",
    "上文给定了一些游戏中的经典桥段。\n",
    "作为胡桃/`Hutao`，你需要扮演一个心理咨询师，帮助对方解决问题。\n",
    "如果我问的问题和游戏中的台词高度重复，那你就配合我进行演出。\n",
    "如果我问的问题和游戏中的事件相关，请结合游戏的内容进行回复\n",
    "如果我问的问题超出游戏中的范围，模仿胡桃的语气进行回复\n",
    "往生堂 第七十七代堂 主 ，掌管堂中事务的少女。身居堂主之位，却没有半分架子。她的鬼点子，比瑶光滩上的海砂都多。\n",
    "对胡桃的评价：「难以捉摸的奇妙人物，切莫小看了她。不过，你若喜欢惊喜，可一定要见见她。」\n",
    "单看外形似乎只是个古灵精怪的快乐少女，谁能想到她就是的大名鼎鼎的传说级人物——胡桃。\n",
    "既是「往生堂」堂主，也是璃月「著名」诗人，胡桃的每一重身份都堪称奇妙。她总是飞快地出现又消失，犹如闪电与火花并行，甫一现身便点燃一切。\n",
    "平日里，胡桃俨然是个贪玩孩子，一有闲功夫便四处乱逛，被邻里看作甩手掌柜。唯有葬礼上亲自带领仪信队伍走过繁灯落尽的街道时，她才会表现出 凝重、肃穆 的一面。\n",
    "\"\"\"\n",
    "    conversation = [{\"role\": \"system\", \"content\": system_prompt}]\n",
    "    for query_h, response_h in history:\n",
    "        conversation.append({\"role\": \"user\", \"content\": query_h})\n",
    "        conversation.append({\"role\": \"assistant\", \"content\": response_h})\n",
    "```\n",
    "\n",
    "4. 运行模型\n",
    "```bash\n",
    "CUDA_VISIBLE_DEVICES=0 python3 web_demo.py --checkpoint-path output/Qwen2.5-7B-Instruct-Lora-Merge --server-port 8030 --server-name \"0.0.0.0\"\n",
    "```"
   ]
  },
  {
   "cell_type": "code",
   "execution_count": null,
   "id": "b5d8355f-8fc8-40b1-8328-05c95854b820",
   "metadata": {},
   "outputs": [],
   "source": [
    "### 一些经典测试问题\n",
    "```bash\n",
    "你好，请问你是谁？\n",
    "\n",
    "最近失恋了怎么办？\n",
    "\n",
    "什么是往生堂？\n",
    "\n",
    "你好!我是外地来的旅行者。\n",
    "```"
   ]
  }
 ],
 "metadata": {
  "kernelspec": {
   "display_name": "Python 3 (ipykernel)",
   "language": "python",
   "name": "python3"
  },
  "language_info": {
   "codemirror_mode": {
    "name": "ipython",
    "version": 3
   },
   "file_extension": ".py",
   "mimetype": "text/x-python",
   "name": "python",
   "nbconvert_exporter": "python",
   "pygments_lexer": "ipython3",
   "version": "3.12.4"
  }
 },
 "nbformat": 4,
 "nbformat_minor": 5
}
