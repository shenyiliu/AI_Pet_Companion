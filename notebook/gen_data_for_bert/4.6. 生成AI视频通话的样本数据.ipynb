{
 "cells": [
  {
   "cell_type": "code",
   "execution_count": 1,
   "id": "ce0e4776-da78-4098-8881-4f2c8231e36b",
   "metadata": {},
   "outputs": [],
   "source": [
    "import os\n",
    "import re\n",
    "import json\n",
    "from tqdm import tqdm, trange\n",
    "from openai import OpenAI"
   ]
  },
  {
   "cell_type": "code",
   "execution_count": 2,
   "id": "a6408b21-b3f4-4bd9-9555-852cdb059c6c",
   "metadata": {},
   "outputs": [],
   "source": [
    "client = OpenAI(\n",
    "    base_url=\"https://open.bigmodel.cn/api/paas/v4/\",\n",
    "    api_key=os.environ[\"API_KEY\"],\n",
    ")\n",
    "\n",
    "def stream_chat(prompt: str, system: str = \"You are a helpful assistant.\", show_log: bool = False):\n",
    "    \"\"\"\n",
    "    流式对话，让你看到过程，然后将结果返回\n",
    "    \"\"\"\n",
    "    messages = [{\"role\": \"system\", \"content\": system}]\n",
    "    messages.append({\"role\": \"user\", \"content\": prompt})\n",
    "    response = client.chat.completions.create(\n",
    "        model=\"GLM-4-Plus\",\n",
    "        messages=messages,\n",
    "        top_p=0.5,\n",
    "        temperature=1,\n",
    "        n=1,\n",
    "        max_tokens=4096,\n",
    "        stream=True,\n",
    "    )\n",
    "    response_text = \"\"\n",
    "    for event in response:\n",
    "        # print(event)\n",
    "        event_text = event.choices[0].delta.content  # extract the text\n",
    "        if event_text is None:\n",
    "            event_text = \"\"\n",
    "        response_text += event_text\n",
    "        if show_log:\n",
    "            print(event_text, end='', flush=True)\n",
    "    if show_log:\n",
    "        print(\"\")\n",
    "    return response_text"
   ]
  },
  {
   "cell_type": "code",
   "execution_count": 3,
   "id": "dfdc31e8-dc0c-4ac9-954f-5d964df58872",
   "metadata": {},
   "outputs": [],
   "source": [
    "def remove_number_dot(text):\n",
    "    # 正则表达式匹配以数字和点号开头的模式\n",
    "    pattern = r'^\\d+\\.\\s*'\n",
    "    # 使用re.sub替换匹配到的内容为空字符串\n",
    "    result = re.sub(pattern, '', text)\n",
    "    return result"
   ]
  },
  {
   "cell_type": "code",
   "execution_count": 4,
   "id": "e57ffbb4-e681-478a-b0c7-646b5796d5be",
   "metadata": {},
   "outputs": [],
   "source": [
    "prompt1_1 = \"\"\"\n",
    "模拟用户对话。\n",
    "生成一些开启或者关闭`AI视频通话`的指令，大概50条左右。\n",
    "例如：1. 让我来玩AI视频通话吧。2. 帮我关闭AI视频通话哈。 \n",
    "开启和关闭的对话尽量1：1，对话过程需要提到AI视频通话或者AI视频对话。\n",
    "然后对话语气需要模拟用户说话。\n",
    "只返回生成后的结果，不要多余回答。生成内容尽量不要重复。\n",
    "\"\"\"\n",
    "prompt1_2 = \"\"\"\n",
    "生成一些开启或者关闭`AI视频通话`的指令，大概50条左右。\n",
    "例如：1. 开启AI视频通话。2. 关闭AI视频通话。\n",
    "开启和关闭的对话尽量1：1，对话过程需要提到AI视频通话或者AI视频对话。\n",
    "只返回生成后的结果，不要多余回答。生成内容尽量不要重复。\n",
    "\"\"\""
   ]
  },
  {
   "cell_type": "code",
   "execution_count": 5,
   "id": "660deeff-6bf6-4665-8677-d736a9dcfe23",
   "metadata": {},
   "outputs": [
    {
     "name": "stderr",
     "output_type": "stream",
     "text": [
      "100%|██████████████████████████████████████████████████████████████████████| 5/5 [01:05<00:00, 13.08s/it]\n",
      "  0%|                                                                              | 0/5 [00:00<?, ?it/s]"
     ]
    },
    {
     "name": "stdout",
     "output_type": "stream",
     "text": [
      "1. 开启AI视频通话。\n",
      "2. 关闭AI视频通话。\n",
      "3. 请启动AI视频对话。\n",
      "4. 停止AI视频对话。\n",
      "5. 开启AI视频通话功能。\n",
      "6. 关闭AI视频通话功能。\n",
      "7. 开始AI视频通话。\n",
      "8. 结束AI视频通话。\n",
      "9. 启用AI视频对话。\n",
      "10. 禁用AI视频对话。\n",
      "11. 打开AI视频通话。\n",
      "12. 关上AI视频通话。\n",
      "13. 开启AI视频对话模式。\n",
      "14. 关闭AI视频对话模式。\n",
      "15. 开启AI视频通话服务。\n",
      "16. 关闭AI视频通话服务。\n",
      "17. 开始AI视频对话。\n",
      "18. 结束AI视频对话。\n",
      "19. 启动AI视频通话系统。\n",
      "20. 关闭AI视频通话系统。\n",
      "21. 开启AI视频通话界面。\n",
      "22. 关闭AI视频通话界面。\n",
      "23. 开启AI视频对话功能。\n",
      "24. 关闭AI视频对话功能。\n",
      "25. 开始AI视频通话会话。\n",
      "26. 结束AI视频通话会话。\n",
      "27. 启用AI视频通话模式。\n",
      "28. 禁用AI视频通话模式。\n",
      "29. 打开AI视频对话。\n",
      "30. 关上AI视频对话。\n",
      "31. 开启AI视频通话应用。\n",
      "32. 关闭AI视频通话应用。\n",
      "33. 开始AI视频对话服务。\n",
      "34. 结束AI视频对话服务。\n",
      "35. 启动AI视频通话程序。\n",
      "36. 关闭AI视频通话程序。\n",
      "37. 开启AI视频对话系统。\n",
      "38. 关闭AI视频对话系统。\n",
      "39. 开始AI视频通话操作。\n",
      "40. 结束AI视频通话操作。\n",
      "41. 启用AI视频对话模式。\n",
      "42. 禁用AI视频对话模式。\n",
      "43. 打开AI视频通话功能。\n",
      "44. 关闭AI视频通话功能。\n",
      "45. 开启AI视频对话服务。\n",
      "46. 关闭AI视频对话服务。\n",
      "47. 开始AI视频通话连接。\n",
      "48. 结束AI视频通话连接。\n",
      "49. 启动AI视频对话应用。\n",
      "50. 关闭AI视频对话应用。"
     ]
    },
    {
     "name": "stderr",
     "output_type": "stream",
     "text": [
      " 20%|██████████████                                                        | 1/5 [00:09<00:39,  9.84s/it]"
     ]
    },
    {
     "name": "stdout",
     "output_type": "stream",
     "text": [
      "\n",
      "1. 开启AI视频通话。\n",
      "2. 关闭AI视频通话。\n",
      "3. 请启动AI视频对话。\n",
      "4. 停止AI视频通话。\n",
      "5. 开启AI视频对话功能。\n",
      "6. 关闭AI视频对话服务。\n",
      "7. 开始AI视频通话。\n",
      "8. 结束AI视频通话。\n",
      "9. 启用AI视频通话模式。\n",
      "10. 禁用AI视频通话功能。\n",
      "11. 打开AI视频对话。\n",
      "12. 关闭AI视频对话。\n",
      "13. 开启AI视频通话服务。\n",
      "14. 停止AI视频对话。\n",
      "15. 启动AI视频通话系统。\n",
      "16. 关闭AI视频通话系统。\n",
      "17. 开始AI视频对话。\n",
      "18. 结束AI视频对话。\n",
      "19. 开启AI视频通话模式。\n",
      "20. 关闭AI视频通话模式。\n",
      "21. 启用AI视频对话功能。\n",
      "22. 禁用AI视频对话功能。\n",
      "23. 打开AI视频通话。\n",
      "24. 关闭AI视频通话。\n",
      "25. 开启AI视频对话服务。\n",
      "26. 停止AI视频对话服务。\n",
      "27. 启动AI视频通话功能。\n",
      "28. 关闭AI视频通话功能。\n",
      "29. 开始AI视频对话模式。\n",
      "30. 结束AI视频对话模式。\n",
      "31. 开启AI视频通话系统。\n",
      "32. 关闭AI视频通话系统。\n",
      "33. 启用AI视频通话服务。\n",
      "34. 禁用AI视频通话服务。\n",
      "35. 打开AI视频对话功能。\n",
      "36. 关闭AI视频对话功能。\n",
      "37. 启动AI视频对话模式。\n",
      "38. 停止AI视频对话模式。\n",
      "39. 开启AI视频通话服务。\n",
      "40. 关闭AI视频通话服务。\n",
      "41. 开始AI视频通话功能。\n",
      "42. 结束AI视频通话功能。\n",
      "43. 启用AI视频对话系统。\n",
      "44. 禁用AI视频对话系统。\n",
      "45. 打开AI视频通话模式。\n",
      "46. 关闭AI视频通话模式。\n",
      "47. 启动AI视频对话服务。\n",
      "48. 停止AI视频对话服务。\n",
      "49. 开启AI视频通话系统。\n",
      "50. 关闭AI视频通话系统。"
     ]
    },
    {
     "name": "stderr",
     "output_type": "stream",
     "text": [
      " 40%|████████████████████████████                                          | 2/5 [00:20<00:30, 10.30s/it]"
     ]
    },
    {
     "name": "stdout",
     "output_type": "stream",
     "text": [
      "\n",
      "1. 开启AI视频通话。\n",
      "2. 关闭AI视频通话。\n",
      "3. 请启动AI视频对话。\n",
      "4. 停止AI视频通话。\n",
      "5. 开启AI视频对话功能。\n",
      "6. 关闭AI视频对话服务。\n",
      "7. 启动AI视频通话模式。\n",
      "8. 终止AI视频通话。\n",
      "9. 开启AI视频通话服务。\n",
      "10. 关闭AI视频对话模式。\n",
      "11. 请开启AI视频通话。\n",
      "12. 请关闭AI视频对话。\n",
      "13. 启动AI视频对话。\n",
      "14. 停止AI视频对话。\n",
      "15. 开启AI视频通话功能。\n",
      "16. 关闭AI视频通话模式。\n",
      "17. 启动AI视频对话服务。\n",
      "18. 终止AI视频对话。\n",
      "19. 开启AI视频对话模式。\n",
      "20. 关闭AI视频通话服务。\n",
      "21. 请启动AI视频通话功能。\n",
      "22. 请停止AI视频对话服务。\n",
      "23. 开启AI视频通话模式。\n",
      "24. 关闭AI视频对话功能。\n",
      "25. 启动AI视频对话模式。\n",
      "26. 终止AI视频通话服务。\n",
      "27. 开启AI视频对话服务。\n",
      "28. 关闭AI视频通话功能。\n",
      "29. 请开启AI视频对话模式。\n",
      "30. 请关闭AI视频通话服务。\n",
      "31. 启动AI视频通话服务。\n",
      "32. 停止AI视频对话功能。\n",
      "33. 开启AI视频对话功能。\n",
      "34. 关闭AI视频通话模式。\n",
      "35. 启动AI视频通话功能。\n",
      "36. 终止AI视频对话模式。\n",
      "37. 开启AI视频对话服务。\n",
      "38. 关闭AI视频通话功能。\n",
      "39. 请启动AI视频通话模式。\n",
      "40. 请停止AI视频对话服务。\n",
      "41. 开启AI视频对话功能。\n",
      "42. 关闭AI视频通话模式。\n",
      "43. 启动AI视频通话服务。\n",
      "44. 终止AI视频对话功能。\n",
      "45. 开启AI视频对话模式。\n",
      "46. 关闭AI视频通话服务。\n",
      "47. 请开启AI视频通话功能。\n",
      "48. 请关闭AI视频对话模式。\n",
      "49. 启动AI视频对话服务。\n",
      "50. 停止AI视频通话功能。"
     ]
    },
    {
     "name": "stderr",
     "output_type": "stream",
     "text": [
      " 60%|██████████████████████████████████████████                            | 3/5 [00:31<00:21, 10.69s/it]"
     ]
    },
    {
     "name": "stdout",
     "output_type": "stream",
     "text": [
      "\n",
      "1. 开启AI视频通话。\n",
      "2. 关闭AI视频通话。\n",
      "3. 请启动AI视频对话。\n",
      "4. 停止AI视频通话。\n",
      "5. 开启AI视频对话功能。\n",
      "6. 关闭AI视频对话功能。\n",
      "7. 开始AI视频通话。\n",
      "8. 结束AI视频通话。\n",
      "9. 启动AI视频通话模式。\n",
      "10. 关闭AI视频通话模式。\n",
      "11. 打开AI视频对话。\n",
      "12. 关闭AI视频对话。\n",
      "13. 开启AI视频通话服务。\n",
      "14. 关闭AI视频通话服务。\n",
      "15. 请开启AI视频通话。\n",
      "16. 请关闭AI视频通话。\n",
      "17. 开启AI视频对话服务。\n",
      "18. 关闭AI视频对话服务。\n",
      "19. 启动AI视频通话功能。\n",
      "20. 停止AI视频对话功能。\n",
      "21. 开启AI视频通话模式。\n",
      "22. 关闭AI视频通话模式。\n",
      "23. 开始AI视频对话。\n",
      "24. 结束AI视频对话。\n",
      "25. 打开AI视频通话功能。\n",
      "26. 关闭AI视频通话功能。\n",
      "27. 启动AI视频对话模式。\n",
      "28. 停止AI视频对话模式。\n",
      "29. 开启AI视频通话服务。\n",
      "30. 关闭AI视频通话服务。\n",
      "31. 请启动AI视频对话。\n",
      "32. 请停止AI视频通话。\n",
      "33. 开启AI视频对话功能。\n",
      "34. 关闭AI视频对话功能。\n",
      "35. 开始AI视频通话。\n",
      "36. 结束AI视频通话。\n",
      "37. 启动AI视频通话模式。\n",
      "38. 关闭AI视频通话模式。\n",
      "39. 打开AI视频对话。\n",
      "40. 关闭AI视频对话。\n",
      "41. 开启AI视频通话服务。\n",
      "42. 关闭AI视频通话服务。\n",
      "43. 请开启AI视频对话。\n",
      "44. 请关闭AI视频对话。\n",
      "45. 启动AI视频通话功能。\n",
      "46. 停止AI视频对话功能。\n",
      "47. 开启AI视频对话模式。\n",
      "48. 关闭AI视频对话模式。\n",
      "49. 开始AI视频通话。\n",
      "50. 结束AI视频通话。"
     ]
    },
    {
     "name": "stderr",
     "output_type": "stream",
     "text": [
      " 80%|████████████████████████████████████████████████████████              | 4/5 [00:42<00:10, 10.71s/it]"
     ]
    },
    {
     "name": "stdout",
     "output_type": "stream",
     "text": [
      "\n",
      "1. 开启AI视频通话。\n",
      "2. 关闭AI视频通话。\n",
      "3. 请启动AI视频对话。\n",
      "4. 停止AI视频通话。\n",
      "5. 开启AI视频对话功能。\n",
      "6. 关闭AI视频对话功能。\n",
      "7. 开始AI视频通话。\n",
      "8. 结束AI视频通话。\n",
      "9. 启动AI视频通话模式。\n",
      "10. 关闭AI视频通话模式。\n",
      "11. 打开AI视频对话。\n",
      "12. 关闭AI视频对话。\n",
      "13. 开启AI视频通话服务。\n",
      "14. 关闭AI视频通话服务。\n",
      "15. 请开启AI视频通话。\n",
      "16. 请关闭AI视频通话。\n",
      "17. 开启AI视频对话系统。\n",
      "18. 关闭AI视频对话系统。\n",
      "19. 开始AI视频对话。\n",
      "20. 结束AI视频对话。\n",
      "21. 启动AI视频通话功能。\n",
      "22. 关闭AI视频通话功能。\n",
      "23. 打开AI视频通话。\n",
      "24. 关闭AI视频通话。\n",
      "25. 开启AI视频对话模式。\n",
      "26. 关闭AI视频对话模式。\n",
      "27. 请启动AI视频对话功能。\n",
      "28. 请停止AI视频通话功能。\n",
      "29. 开启AI视频通话服务。\n",
      "30. 关闭AI视频通话服务。\n",
      "31. 开始AI视频通话模式。\n",
      "32. 结束AI视频通话模式。\n",
      "33. 启动AI视频对话服务。\n",
      "34. 关闭AI视频对话服务。\n",
      "35. 打开AI视频对话功能。\n",
      "36. 关闭AI视频对话功能。\n",
      "37. 请开启AI视频通话模式。\n",
      "38. 请关闭AI视频通话模式。\n",
      "39. 开启AI视频对话系统。\n",
      "40. 关闭AI视频对话系统。\n",
      "41. 开始AI视频通话服务。\n",
      "42. 结束AI视频通话服务。\n",
      "43. 启动AI视频对话模式。\n",
      "44. 关闭AI视频对话模式。\n",
      "45. 打开AI视频通话功能。\n",
      "46. 关闭AI视频通话功能。\n",
      "47. 请开启AI视频对话服务。\n",
      "48. 请关闭AI视频对话服务。\n",
      "49. 开启AI视频通话系统。\n",
      "50. 关闭AI视频通话系统。"
     ]
    },
    {
     "name": "stderr",
     "output_type": "stream",
     "text": [
      "100%|██████████████████████████████████████████████████████████████████████| 5/5 [00:52<00:00, 10.50s/it]"
     ]
    },
    {
     "name": "stdout",
     "output_type": "stream",
     "text": [
      "\n"
     ]
    },
    {
     "name": "stderr",
     "output_type": "stream",
     "text": [
      "\n"
     ]
    }
   ],
   "source": [
    "result_text1 = \"\"\n",
    "for i in trange(5):\n",
    "    temp_text = stream_chat(prompt1_1, system=\"你是一个电脑助手\", show_log=False)\n",
    "    result_text1 += \"\\n\" + temp_text\n",
    "for i in trange(5):\n",
    "    temp_text = stream_chat(prompt1_2, system=\"你是一个电脑助手\", show_log=True)\n",
    "    result_text1 += \"\\n\" + temp_text"
   ]
  },
  {
   "cell_type": "code",
   "execution_count": 6,
   "id": "ddaea57d-ecbd-465c-bcad-6ba3c39dbd1c",
   "metadata": {},
   "outputs": [
    {
     "name": "stdout",
     "output_type": "stream",
     "text": [
      "初步生成的指令有：228条\n"
     ]
    }
   ],
   "source": [
    "text_list = [remove_number_dot(text) for text in result_text1.split()]\n",
    "text_list = [text.strip() for text in text_list]\n",
    "text_list = [text for text in text_list if len(text) > 0]\n",
    "text_list = list(set(text_list))\n",
    "print(f\"初步生成的指令有：{len(text_list)}条\")"
   ]
  },
  {
   "cell_type": "markdown",
   "id": "596a59ed-49b1-46d1-86d6-2e08a6cee288",
   "metadata": {},
   "source": [
    "### 需要一个标注工人\n",
    "- 帮我完成对应的实体标注，实体类别，开始位置，结束位置，原文字段"
   ]
  },
  {
   "cell_type": "code",
   "execution_count": 7,
   "id": "ea9e3649-d462-4bd6-97a1-a3592859b449",
   "metadata": {},
   "outputs": [],
   "source": [
    "prompt3_1 = \"\"\"\n",
    "请帮我对下面提供的数据做实体标注，要求标注它的实体类型。\n",
    "实体类别有两种，分别是`On`和`Off`\n",
    "下面是一些例子：\n",
    "这里我提供两个样本：\n",
    "```text\n",
    "开启AI视频通话。\n",
    "结束视频通话。\n",
    "```\n",
    "标注结果参考\n",
    "```json\n",
    "[\n",
    "    {\n",
    "        \"text\": \"开启AI视频通话。\",\n",
    "        \"entity\": {\"type\": \"On\", \"raw\": \"开启\"}\n",
    "    },\n",
    "    {\n",
    "        \"text\": \"结束视频通话。\",\n",
    "        \"entity\": {\"type\": \"Off\", \"raw\": \"结束\"}\n",
    "    }\n",
    "]\n",
    "```\n",
    "\"\"\""
   ]
  },
  {
   "cell_type": "code",
   "execution_count": 8,
   "id": "6b3872d0-055d-4dcd-ba73-694e4f7bb821",
   "metadata": {},
   "outputs": [],
   "source": [
    "def find_entity(text, raw):\n",
    "    s = text.rfind(raw)\n",
    "    e = s + len(raw)\n",
    "    return (s, e)"
   ]
  },
  {
   "cell_type": "code",
   "execution_count": 9,
   "id": "eff00fb4-d126-42f3-8f91-9cb767281f5d",
   "metadata": {},
   "outputs": [
    {
     "data": {
      "text/plain": [
       "(3, 8)"
      ]
     },
     "execution_count": 9,
     "metadata": {},
     "output_type": "execute_result"
    }
   ],
   "source": [
    "find_entity(\"将音量调至10%\", \"调至10%\")"
   ]
  },
  {
   "cell_type": "code",
   "execution_count": 10,
   "id": "d0322944-daf2-4026-b1bb-80cdeb039fb7",
   "metadata": {},
   "outputs": [],
   "source": [
    "def label_text(text: str):\n",
    "    prompt3_2 = f\"\"\"\n",
    "    下面是我提供给你的句子，请直接返回标注结果，不要多余返回。\n",
    "    注意：生成的json必须合乎json语法规范，不要有多余空格\n",
    "    ```text\n",
    "    {text}\n",
    "    ```\n",
    "    \"\"\"\n",
    "    prompt3 = prompt3_1 + prompt3_2\n",
    "    result_text = stream_chat(prompt3, system=\"你是一个标注员\")\n",
    "    response = result_text\n",
    "    if result_text.startswith(\"```json\"):\n",
    "        result_text = result_text.lstrip(\"```json\")\n",
    "    if result_text.endswith(\"```\"):\n",
    "        result_text = result_text.rstrip(\"```\")\n",
    "    try:\n",
    "        result_data = json.loads(result_text)\n",
    "        data_list = []\n",
    "        for data in result_data:\n",
    "            start, end = find_entity(data[\"text\"], data[\"entity\"][\"raw\"])\n",
    "            data[\"entity\"][\"start\"] = start\n",
    "            data[\"entity\"][\"end\"] = end\n",
    "            data_list.append(data)\n",
    "    except:\n",
    "        print(\"标注异常\")\n",
    "        print(\"text: \", text)\n",
    "        print(\"response: \", response)\n",
    "        data_list = []\n",
    "    return data_list"
   ]
  },
  {
   "cell_type": "code",
   "execution_count": 11,
   "id": "6d3cf02d-6983-4864-bc95-e9d99b4cdd38",
   "metadata": {},
   "outputs": [
    {
     "name": "stderr",
     "output_type": "stream",
     "text": [
      "100%|██████████████████████████████████████████████████████████████████| 228/228 [04:47<00:00,  1.26s/it]\n"
     ]
    }
   ],
   "source": [
    "data_list = []\n",
    "for text in tqdm(text_list):\n",
    "    temp_list = label_text(text)\n",
    "    data_list.extend(temp_list)"
   ]
  },
  {
   "cell_type": "code",
   "execution_count": 12,
   "id": "2e63d904-0565-4a22-827a-e8b5dd62d27e",
   "metadata": {
    "scrolled": true
   },
   "outputs": [
    {
     "data": {
      "text/plain": [
       "228"
      ]
     },
     "execution_count": 12,
     "metadata": {},
     "output_type": "execute_result"
    }
   ],
   "source": [
    "len(data_list)"
   ]
  },
  {
   "cell_type": "code",
   "execution_count": 13,
   "id": "b8baa6c0-08f5-4afb-b9af-1474080c9da3",
   "metadata": {},
   "outputs": [],
   "source": [
    "### 保存结果\n",
    "import os\n",
    "dataset_dir = \"dataset\"\n",
    "if not os.path.exists(dataset_dir):\n",
    "    os.mkdir(dataset_dir)"
   ]
  },
  {
   "cell_type": "code",
   "execution_count": 14,
   "id": "4a444678-65ef-46b4-be0f-096721ff2d3c",
   "metadata": {},
   "outputs": [],
   "source": [
    "result_json_path = os.path.join(dataset_dir, \"video_chat.json\")\n",
    "with open(result_json_path, \"wt\", encoding=\"utf-8\") as f1:\n",
    "    json.dump(data_list, f1, indent=4, ensure_ascii=False)"
   ]
  },
  {
   "cell_type": "code",
   "execution_count": null,
   "id": "7fadc65e-13a1-464a-b107-b4f676a59be7",
   "metadata": {},
   "outputs": [],
   "source": []
  }
 ],
 "metadata": {
  "kernelspec": {
   "display_name": "Python 3 (ipykernel)",
   "language": "python",
   "name": "python3"
  },
  "language_info": {
   "codemirror_mode": {
    "name": "ipython",
    "version": 3
   },
   "file_extension": ".py",
   "mimetype": "text/x-python",
   "name": "python",
   "nbconvert_exporter": "python",
   "pygments_lexer": "ipython3",
   "version": "3.10.0"
  }
 },
 "nbformat": 4,
 "nbformat_minor": 5
}
