{
 "cells": [
  {
   "cell_type": "markdown",
   "id": "87a42fd1-483c-4ecf-86de-a37d244fe3a5",
   "metadata": {},
   "source": [
    "### 准备一个虚拟环境"
   ]
  },
  {
   "cell_type": "code",
   "execution_count": null,
   "id": "8dabe452-d589-4cc2-becd-87fbda6f38ed",
   "metadata": {},
   "outputs": [],
   "source": [
    "!conda create -n llama-factory python==3.10\n",
    "!conda activate llama-factory"
   ]
  },
  {
   "cell_type": "markdown",
   "id": "a26e6853-9a7e-4483-be0e-88be5a1d74c3",
   "metadata": {},
   "source": [
    "### 安装pytorch相关内容\n",
    "- 参考官网[安装教程](https://pytorch.org/get-started/locally/)\n",
    "- 根据你的cuda版本决定"
   ]
  },
  {
   "cell_type": "code",
   "execution_count": null,
   "id": "5b9f9d39-2cdf-48a1-b10a-ba419b816e5c",
   "metadata": {},
   "outputs": [],
   "source": [
    "!pip3 install torch torchvision torchaudio --index-url https://download.pytorch.org/whl/cu121"
   ]
  },
  {
   "cell_type": "markdown",
   "id": "c1cce9ba-fd34-42a5-a9f8-6511b9752e03",
   "metadata": {},
   "source": [
    "### 安装llama-factory用于模型训练"
   ]
  },
  {
   "cell_type": "code",
   "execution_count": null,
   "id": "e510bf58-d4c8-4aa6-9f5a-f66d3e248fad",
   "metadata": {},
   "outputs": [],
   "source": [
    "!git clone --depth 1 https://github.com/hiyouga/LLaMA-Factory.git\n",
    "!cd LLaMA-Factory\n",
    "!pip install -e \".[torch,metrics,qwen,bitsandbytes]\""
   ]
  },
  {
   "cell_type": "markdown",
   "id": "8da1737d-0c55-433f-afb5-760be60f2e7a",
   "metadata": {},
   "source": [
    "### 安装flash-attention提高训练速度"
   ]
  },
  {
   "cell_type": "code",
   "execution_count": null,
   "id": "e68201f4-ebe7-485a-bb89-12a63f31d08b",
   "metadata": {},
   "outputs": [],
   "source": [
    "!pip install flash-attn --no-build-isolation"
   ]
  },
  {
   "cell_type": "code",
   "execution_count": null,
   "id": "e7e8eff5-ebe0-443d-bf49-fb9f31e6b51a",
   "metadata": {},
   "outputs": [],
   "source": []
  }
 ],
 "metadata": {
  "kernelspec": {
   "display_name": "Python 3 (ipykernel)",
   "language": "python",
   "name": "python3"
  },
  "language_info": {
   "codemirror_mode": {
    "name": "ipython",
    "version": 3
   },
   "file_extension": ".py",
   "mimetype": "text/x-python",
   "name": "python",
   "nbconvert_exporter": "python",
   "pygments_lexer": "ipython3",
   "version": "3.12.4"
  }
 },
 "nbformat": 4,
 "nbformat_minor": 5
}
